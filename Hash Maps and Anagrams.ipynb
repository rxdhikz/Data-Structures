{
 "cells": [
  {
   "cell_type": "markdown",
   "id": "efa6b158",
   "metadata": {},
   "source": [
    "Hash maps are a kind of data structure that provide efficient inseretion, deletion and lookup operations. Hash maps can be considered to be a dictionary as well."
   ]
  },
  {
   "cell_type": "code",
   "execution_count": 1,
   "id": "3823d96c",
   "metadata": {},
   "outputs": [],
   "source": [
    "#Creating a hash map\n",
    "hash_map = {}"
   ]
  },
  {
   "cell_type": "markdown",
   "id": "e42b4b4f",
   "metadata": {},
   "source": [
    "Anagrams are strings that contain the same characters, but in any (random) order.\n",
    "\n",
    "Example.\n",
    "    cats & tacs"
   ]
  },
  {
   "cell_type": "markdown",
   "id": "9361c126",
   "metadata": {},
   "source": [
    "For instance let us consider the word 'cats'\n",
    "    cats & tacs --- are considered to be considered to be anagrams because the character count is equal on both the sides\n",
    "    cats & tocs --- are not considered to be anagrams because the character count aren't tallied on both the sides\n",
    "    \n",
    ">>> cats & tacs\n",
    "    {c:1,a:1,t:1,s:1} & {t:1,a:1,c:1,s:1}\n",
    "The character count in the above two words are equal and hence they are anagrams\n",
    "    \n",
    ">>> cats & tocs\n",
    "    {c:1,a:1,t:1,s:1} & {t:1,o:1,c:1,s:1}\n",
    "The character count in the words above aren't equal, infact there is no letter 'a' in the second word and hence these aren't anagrams"
   ]
  },
  {
   "cell_type": "code",
   "execution_count": 2,
   "id": "699786d3",
   "metadata": {},
   "outputs": [],
   "source": [
    "#defining a function to count the number of characters in the string with the duplicate count for each character\n",
    "def char_counts(s):\n",
    "    count = {} #creating an empty hash map to store the count of characters\n",
    "    for char in s: #using for loop, for each character in the string\n",
    "        if char not in count: #checking if the character already exists in count using the 'if' condition\n",
    "            count[char] = 0 #adding the character onto the empty hash map for the first time\n",
    "        count[char] += 1 #incrementing the value of that character by 1\n",
    "    return count #returning the hash map storing the count of characters"
   ]
  },
  {
   "cell_type": "code",
   "execution_count": 3,
   "id": "97c036c6",
   "metadata": {},
   "outputs": [],
   "source": [
    "#defining a function to check if two strings are anagrams by using the function defined above\n",
    "def anagrams(s1,s2):\n",
    "    return char_counts(s1) == char_counts(s2) #checks if both the strings are anagrams and returns them"
   ]
  },
  {
   "cell_type": "code",
   "execution_count": 4,
   "id": "60d5904a",
   "metadata": {},
   "outputs": [
    {
     "data": {
      "text/plain": [
       "True"
      ]
     },
     "execution_count": 4,
     "metadata": {},
     "output_type": "execute_result"
    }
   ],
   "source": [
    "#initialising two strings\n",
    "a = \"potatoes\"\n",
    "b = \"topatoes\"\n",
    "anagrams(a,b) #calling the function and checking if the two strings are anagrams or not"
   ]
  },
  {
   "cell_type": "code",
   "execution_count": 5,
   "id": "6be0e43c",
   "metadata": {},
   "outputs": [],
   "source": [
    "#defining a function to count the number of characters in the string with the duplicate count for each character\n",
    "def char_counts(s):\n",
    "    count = {} #creating an empty hash map to store the count of characters\n",
    "    for char in s: #using for loop, for each character in the string\n",
    "        if char not in count: #checking if the character already exists in count using the 'if' condition\n",
    "            count[char] = 0 #adding the character onto the empty hash map for the first time\n",
    "        count[char] += 1 #incrementing the value of that character by 1\n",
    "    return count #returning the hash map storing the count of characters\n",
    "\n",
    "#defining a function to check if two strings are anagrams by using the function defined above\n",
    "def anagrams(s1,s2):\n",
    "    if char_counts(s1) == char_counts(s2): #using if, checks if the character count of both the strings match\n",
    "        print(f\"{s1} and {s2} are anagrams.\") #printing this statement\n",
    "    else: #if the 'if' condition isn't satisfied\n",
    "        print(f\"{s1} and {s2} aren't anagrams.\") #prinitng this statement"
   ]
  },
  {
   "cell_type": "code",
   "execution_count": 6,
   "id": "6e1f92cd",
   "metadata": {},
   "outputs": [
    {
     "data": {
      "text/plain": [
       "{'o': 1, 'r': 1, 'f': 1, 'i': 1, 'c': 1}"
      ]
     },
     "execution_count": 6,
     "metadata": {},
     "output_type": "execute_result"
    }
   ],
   "source": [
    "#initialising two strings\n",
    "str1 = \"orphic\"\n",
    "str2 = \"orfic\"\n",
    "char_counts(str1) #calling the function to check the character count of str1\n",
    "char_counts(str2) #calling the function to check the character count of str2"
   ]
  },
  {
   "cell_type": "code",
   "execution_count": 7,
   "id": "6201c55d",
   "metadata": {},
   "outputs": [
    {
     "name": "stdout",
     "output_type": "stream",
     "text": [
      "orphic and orfic aren't anagrams.\n"
     ]
    }
   ],
   "source": [
    "anagrams(str1,str2) #checking if the strings are anagrams"
   ]
  },
  {
   "cell_type": "code",
   "execution_count": 8,
   "id": "fed15a2b",
   "metadata": {},
   "outputs": [
    {
     "name": "stdout",
     "output_type": "stream",
     "text": [
      "bloom and loomb are anagrams.\n"
     ]
    }
   ],
   "source": [
    "#initialising two strings\n",
    "q = \"bloom\"\n",
    "r = \"loomb\"\n",
    "anagrams(q,r) #checking if the two strings are anagrams"
   ]
  }
 ],
 "metadata": {
  "kernelspec": {
   "display_name": "Python 3 (ipykernel)",
   "language": "python",
   "name": "python3"
  },
  "language_info": {
   "codemirror_mode": {
    "name": "ipython",
    "version": 3
   },
   "file_extension": ".py",
   "mimetype": "text/x-python",
   "name": "python",
   "nbconvert_exporter": "python",
   "pygments_lexer": "ipython3",
   "version": "3.11.2"
  }
 },
 "nbformat": 4,
 "nbformat_minor": 5
}
