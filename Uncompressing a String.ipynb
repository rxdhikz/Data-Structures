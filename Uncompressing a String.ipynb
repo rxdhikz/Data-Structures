{
 "cells": [
  {
   "cell_type": "markdown",
   "id": "63516621",
   "metadata": {},
   "source": [
    "Uncompressing a string"
   ]
  },
  {
   "cell_type": "markdown",
   "id": "33dba7bf",
   "metadata": {},
   "source": [
    "A string can be manipulated in various ways. One such way is by uncompressing a particular string.\n",
    "\n",
    "For example, 2*a will give us \"aa\" as the output\n",
    "\n",
    "Similarly,\n",
    "\n",
    "2c4g5t (compressed format of a string) should be returning us \"ccggggttttt\" (uncompressed format for the mentioned string) as the output."
   ]
  },
  {
   "cell_type": "markdown",
   "id": "2cd268fb",
   "metadata": {},
   "source": [
    "Now let us take a simple string say \"2a3t11y4g\"\n",
    "\n",
    "We will be considering two indexes --- i and j for the string.\n",
    "The \"i\" pointer will be responsible in checking if the index is a number.\n",
    "the \"j\" pointer will be responsible in checking if the index is a character.\n",
    "Both the pointers will be initialised to zero in the beginning."
   ]
  },
  {
   "cell_type": "code",
   "execution_count": 1,
   "id": "abe32d40",
   "metadata": {},
   "outputs": [],
   "source": [
    "def uncompress(s): #defining a function to compress a string by taking the string as its parameter\n",
    "    numbers = \"0123456789\" #initialising a string of numbers from 0 to 9\n",
    "    result = \"\" #initiating an empty string called result\n",
    "    i = 0 #initialising a pointer 'i' (characters) to be zero\n",
    "    j = 0 #initialising a pointer 'j' (numbers) to be zero\n",
    "    while j < len(s): #using while loop, while the value of the pointer 'j' is lesser than the length of the string\n",
    "        if s[j] in numbers: #using if, if the index of the pointer 'j' is in the numbers string then\n",
    "            j += 1 #increment a value to the pointer 'j'\n",
    "        else: #if the 'if' condition isn't satisfied then\n",
    "            num = int(s[i:j]) #converting the value right before the character into an integer\n",
    "            result += s[j]*num #multiplying the number to that particular character and adding it onto the result string\n",
    "            j += 1 #incrementing the pointer value by 1\n",
    "            i = j #equalising both the pointers\n",
    "    return result #returning the result string"
   ]
  },
  {
   "cell_type": "code",
   "execution_count": 2,
   "id": "4c1f01c6",
   "metadata": {},
   "outputs": [
    {
     "data": {
      "text/plain": [
       "'aatttyyyyggggg'"
      ]
     },
     "execution_count": 2,
     "metadata": {},
     "output_type": "execute_result"
    }
   ],
   "source": [
    "s = \"2a3t4y5g\" #initialising a string\n",
    "uncompress(s) #calling the function"
   ]
  },
  {
   "cell_type": "code",
   "execution_count": 3,
   "id": "fe18639f",
   "metadata": {},
   "outputs": [],
   "source": [
    "def uncompress(s): #defining a function to compress a string by taking the string as its parameter\n",
    "    numbers = \"0123456789\" #initialising a string of numbers from 0 to 9\n",
    "    result = [] #initiating an empty list called result\n",
    "    i = 0 #initialising a pointer 'i' (characters) to be zero\n",
    "    j = 0 #initialising a pointer 'j' (numbers) to be zero\n",
    "    while j < len(s): #using while loop, while the value of the pointer 'j' is lesser than the length of the string\n",
    "        if s[j] in numbers: #using if, if the index of the pointer 'j' is in the numbers string then\n",
    "            j += 1 #increment a value to the pointer 'j'\n",
    "        else: #if the 'if' condition isn't satisfied then\n",
    "            num = int(s[i:j]) #converting the value right before the character into an integer\n",
    "            result.append(s[j]*num) #appending the number multiplied with the charcter onto the result list\n",
    "            j += 1 #incrementing the pointer value by 1\n",
    "            i = j #equalising both the pointers\n",
    "    return ''.join(result) #returning the result string"
   ]
  },
  {
   "cell_type": "code",
   "execution_count": 4,
   "id": "69499a57",
   "metadata": {},
   "outputs": [
    {
     "data": {
      "text/plain": [
       "'bloom'"
      ]
     },
     "execution_count": 4,
     "metadata": {},
     "output_type": "execute_result"
    }
   ],
   "source": [
    "string = \"1b1l2o1m\" #initialisng a string\n",
    "uncompress(string) #calling the function"
   ]
  }
 ],
 "metadata": {
  "kernelspec": {
   "display_name": "Python 3 (ipykernel)",
   "language": "python",
   "name": "python3"
  },
  "language_info": {
   "codemirror_mode": {
    "name": "ipython",
    "version": 3
   },
   "file_extension": ".py",
   "mimetype": "text/x-python",
   "name": "python",
   "nbconvert_exporter": "python",
   "pygments_lexer": "ipython3",
   "version": "3.11.2"
  }
 },
 "nbformat": 4,
 "nbformat_minor": 5
}
